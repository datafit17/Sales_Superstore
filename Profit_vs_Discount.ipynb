{
 "cells": [
  {
   "cell_type": "code",
   "execution_count": 1,
   "id": "74e7a02d",
   "metadata": {},
   "outputs": [],
   "source": [
    "import pandas as pd\n",
    "import matplotlib.pyplot as plt\n",
    "import seaborn as sns\n",
    "import warnings\n",
    "warnings.filterwarnings('ignore')"
   ]
  },
  {
   "cell_type": "code",
   "execution_count": 2,
   "id": "db390d88",
   "metadata": {},
   "outputs": [],
   "source": [
    "data = pd.read_excel(\"Full-Sales-Superstore.xlsx\", sheet_name=\"Superstore dataset\")"
   ]
  },
  {
   "cell_type": "code",
   "execution_count": 3,
   "id": "65b3be28",
   "metadata": {},
   "outputs": [
    {
     "name": "stdout",
     "output_type": "stream",
     "text": [
      "<class 'pandas.core.frame.DataFrame'>\n",
      "RangeIndex: 9994 entries, 0 to 9993\n",
      "Data columns (total 21 columns):\n",
      " #   Column             Non-Null Count  Dtype         \n",
      "---  ------             --------------  -----         \n",
      " 0   Category           9994 non-null   object        \n",
      " 1   City               9994 non-null   object        \n",
      " 2   Country            9994 non-null   object        \n",
      " 3   Customer Name      9994 non-null   object        \n",
      " 4   Manufacturer       9994 non-null   object        \n",
      " 5   Order Date         9994 non-null   datetime64[ns]\n",
      " 6   Order ID           9994 non-null   object        \n",
      " 7   Postal Code        9994 non-null   int64         \n",
      " 8   Product Name       9994 non-null   object        \n",
      " 9   Region             9994 non-null   object        \n",
      " 10  Segment            9994 non-null   object        \n",
      " 11  Ship Date          9994 non-null   datetime64[ns]\n",
      " 12  Ship Mode          9994 non-null   object        \n",
      " 13  State              9994 non-null   object        \n",
      " 14  Sub-Category       9994 non-null   object        \n",
      " 15  Discount           9994 non-null   float64       \n",
      " 16  Number of Records  9994 non-null   int64         \n",
      " 17  Profit             9994 non-null   int64         \n",
      " 18  Profit Ratio       9994 non-null   float64       \n",
      " 19  Quantity           9994 non-null   int64         \n",
      " 20  Sales              9994 non-null   int64         \n",
      "dtypes: datetime64[ns](2), float64(2), int64(5), object(12)\n",
      "memory usage: 1.6+ MB\n"
     ]
    }
   ],
   "source": [
    "data.info()"
   ]
  },
  {
   "cell_type": "code",
   "execution_count": 4,
   "id": "ec2e9b1d",
   "metadata": {},
   "outputs": [
    {
     "data": {
      "text/plain": [
       "Category             0\n",
       "City                 0\n",
       "Country              0\n",
       "Customer Name        0\n",
       "Manufacturer         0\n",
       "Order Date           0\n",
       "Order ID             0\n",
       "Postal Code          0\n",
       "Product Name         0\n",
       "Region               0\n",
       "Segment              0\n",
       "Ship Date            0\n",
       "Ship Mode            0\n",
       "State                0\n",
       "Sub-Category         0\n",
       "Discount             0\n",
       "Number of Records    0\n",
       "Profit               0\n",
       "Profit Ratio         0\n",
       "Quantity             0\n",
       "Sales                0\n",
       "dtype: int64"
      ]
     },
     "execution_count": 4,
     "metadata": {},
     "output_type": "execute_result"
    }
   ],
   "source": [
    "data.isnull().sum()"
   ]
  },
  {
   "cell_type": "code",
   "execution_count": 5,
   "id": "0b40dee1",
   "metadata": {},
   "outputs": [
    {
     "name": "stdout",
     "output_type": "stream",
     "text": [
      "          Category          City        Country  Customer Name  Manufacturer  \\\n",
      "0  Office Supplies       Houston  United States  Darren Powers  Message Book   \n",
      "1  Office Supplies    Naperville  United States  Phillina Ober           GBC   \n",
      "2  Office Supplies    Naperville  United States  Phillina Ober         Avery   \n",
      "3  Office Supplies    Naperville  United States  Phillina Ober         SAFCO   \n",
      "4  Office Supplies  Philadelphia  United States     Mick Brown         Avery   \n",
      "\n",
      "  Order Date        Order ID  Postal Code  \\\n",
      "0 2011-01-04  CA-2011-103800        77095   \n",
      "1 2011-01-05  CA-2011-112326        60540   \n",
      "2 2011-01-05  CA-2011-112326        60540   \n",
      "3 2011-01-05  CA-2011-112326        60540   \n",
      "4 2011-01-06  CA-2011-141817        19143   \n",
      "\n",
      "                                        Product Name   Region  ...  Ship Date  \\\n",
      "0  Message Book, Wirebound, Four 5 1/2\" X 4\" Form...  Central  ... 2011-01-08   \n",
      "1         GBC Standard Plastic Binding Systems Combs  Central  ... 2011-01-09   \n",
      "2                                          Avery 508  Central  ... 2011-01-09   \n",
      "3                      SAFCO Boltless Steel Shelving  Central  ... 2011-01-09   \n",
      "4  Avery Hi-Liter EverBold Pen Style Fluorescent ...     East  ... 2011-01-13   \n",
      "\n",
      "        Ship Mode         State Sub-Category Discount  Number of Records  \\\n",
      "0  Standard Class         Texas        Paper      0.2                  1   \n",
      "1  Standard Class      Illinois      Binders      0.8                  1   \n",
      "2  Standard Class      Illinois       Labels      0.2                  1   \n",
      "3  Standard Class      Illinois      Storage      0.2                  1   \n",
      "4  Standard Class  Pennsylvania          Art      0.2                  1   \n",
      "\n",
      "   Profit  Profit Ratio  Quantity  Sales  \n",
      "0       6          0.34         2     16  \n",
      "1      -5         -1.55         2      4  \n",
      "2       4          0.36         3     12  \n",
      "3     -65         -0.24         3    273  \n",
      "4       5          0.25         3     20  \n",
      "\n",
      "[5 rows x 21 columns]\n"
     ]
    }
   ],
   "source": [
    "print(data.head())"
   ]
  },
  {
   "cell_type": "code",
   "execution_count": 6,
   "id": "4db613b0",
   "metadata": {},
   "outputs": [
    {
     "name": "stdout",
     "output_type": "stream",
     "text": [
      "Total Sales in USD:  2297354\n",
      "Total Profit in USD:  286347\n",
      "Average Profit Ratio:  0.12053231939163461\n",
      "Average Discount:  0.15620272163299012\n"
     ]
    }
   ],
   "source": [
    "print(\"Total Sales in USD: \",data[\"Sales\"].sum())\n",
    "print(\"Total Profit in USD: \",data[\"Profit\"].sum())\n",
    "print(\"Average Profit Ratio: \",data[\"Profit Ratio\"].mean())\n",
    "print(\"Average Discount: \",data[\"Discount\"].mean())"
   ]
  },
  {
   "cell_type": "code",
   "execution_count": 7,
   "id": "51723d24",
   "metadata": {},
   "outputs": [
    {
     "data": {
      "image/png": "[encoded data removed]",
      "text/plain": [
       "<Figure size 1152x288 with 3 Axes>"
      ]
     },
     "metadata": {
      "needs_background": "light"
     },
     "output_type": "display_data"
    }
   ],
   "source": [
    "plt.figure(figsize=(16,4))\n",
    "\n",
    "plt.subplot(1, 3, 1)\n",
    "data.groupby(\"Region\")[\"Sales\"].sum().plot(kind=\"bar\")\n",
    "plt.title(\"Sales by Region\")\n",
    "\n",
    "plt.subplot(1, 3, 2)\n",
    "data.groupby(\"Region\")[\"Profit\"].sum().plot(kind=\"bar\")\n",
    "plt.title(\"Total Profits by Region\")\n",
    "\n",
    "plt.subplot(1, 3, 3)\n",
    "data.groupby(\"Region\")[\"Profit\"].mean().plot(kind=\"bar\")\n",
    "plt.title(\"Average Profit by Region\")\n",
    "\n",
    "plt.show()"
   ]
  },
  {
   "cell_type": "code",
   "execution_count": 8,
   "id": "0efdd89d",
   "metadata": {},
   "outputs": [
    {
     "data": {
      "text/plain": [
       "Region\n",
       "Central   -0.103995\n",
       "East       0.167479\n",
       "South      0.163722\n",
       "West       0.219785\n",
       "Name: Profit Ratio, dtype: float64"
      ]
     },
     "execution_count": 8,
     "metadata": {},
     "output_type": "execute_result"
    }
   ],
   "source": [
    "data.groupby(\"Region\")[\"Profit Ratio\"].mean()"
   ]
  },
  {
   "cell_type": "code",
   "execution_count": 9,
   "id": "933a4ecc",
   "metadata": {},
   "outputs": [
    {
     "data": {
      "text/plain": [
       "Region\n",
       "Central    0.240353\n",
       "East       0.145365\n",
       "South      0.147253\n",
       "West       0.109335\n",
       "Name: Discount, dtype: float64"
      ]
     },
     "execution_count": 9,
     "metadata": {},
     "output_type": "execute_result"
    }
   ],
   "source": [
    "data.groupby(\"Region\")[\"Discount\"].mean()"
   ]
  },
  {
   "cell_type": "code",
   "execution_count": 10,
   "id": "c851b60d",
   "metadata": {},
   "outputs": [
    {
     "data": {
      "image/png": "[encoded data removed]",
      "text/plain": [
       "<Figure size 432.375x360 with 1 Axes>"
      ]
     },
     "metadata": {
      "needs_background": "light"
     },
     "output_type": "display_data"
    }
   ],
   "source": [
    "sns.lmplot('Discount', 'Profit Ratio', data=data, hue='Region', fit_reg=False)\n",
    "plt.show()"
   ]
  },
  {
   "cell_type": "code",
   "execution_count": 11,
   "id": "e22ad66a",
   "metadata": {},
   "outputs": [
    {
     "data": {
      "image/png": "[encoded data removed]",
      "text/plain": [
       "<Figure size 470.875x360 with 1 Axes>"
      ]
     },
     "metadata": {
      "needs_background": "light"
     },
     "output_type": "display_data"
    }
   ],
   "source": [
    "sns.lmplot('Discount', 'Profit Ratio', data=data, hue='Category', fit_reg=False)\n",
    "plt.show()"
   ]
  },
  {
   "cell_type": "code",
   "execution_count": 12,
   "id": "0c00586d",
   "metadata": {},
   "outputs": [],
   "source": [
    "region_central = data[data[\"Region\"]==\"Central\"]"
   ]
  },
  {
   "cell_type": "code",
   "execution_count": 13,
   "id": "c04cf4ca",
   "metadata": {},
   "outputs": [
    {
     "data": {
      "image/png": "[encoded data removed]",
      "text/plain": [
       "<Figure size 1152x288 with 3 Axes>"
      ]
     },
     "metadata": {
      "needs_background": "light"
     },
     "output_type": "display_data"
    }
   ],
   "source": [
    "plt.figure(figsize=(16,4))\n",
    "\n",
    "plt.subplot(1, 3, 1)\n",
    "region_central.groupby(\"Category\")[\"Sales\"].sum().plot(kind=\"bar\")\n",
    "plt.title(\"Sales by Category\")\n",
    "\n",
    "plt.subplot(1, 3, 2)\n",
    "region_central.groupby(\"Category\")[\"Profit\"].sum().plot(kind=\"bar\")\n",
    "plt.title(\"Total Profits by Category\")\n",
    "\n",
    "plt.subplot(1, 3, 3)\n",
    "region_central.groupby(\"Category\")[\"Profit\"].mean().plot(kind=\"bar\")\n",
    "plt.title(\"Average Profit by Category\")\n",
    "\n",
    "plt.show()"
   ]
  },
  {
   "cell_type": "code",
   "execution_count": 14,
   "id": "87b2b3a0",
   "metadata": {},
   "outputs": [
    {
     "data": {
      "text/plain": [
       "Category\n",
       "Furniture         -0.186341\n",
       "Office Supplies   -0.158671\n",
       "Technology         0.175429\n",
       "Name: Profit Ratio, dtype: float64"
      ]
     },
     "execution_count": 14,
     "metadata": {},
     "output_type": "execute_result"
    }
   ],
   "source": [
    "region_central.groupby(\"Category\")[\"Profit Ratio\"].mean()"
   ]
  },
  {
   "cell_type": "code",
   "execution_count": 15,
   "id": "f43c73b3",
   "metadata": {},
   "outputs": [
    {
     "data": {
      "text/plain": [
       "Category\n",
       "Furniture          0.297380\n",
       "Office Supplies    0.252743\n",
       "Technology         0.133095\n",
       "Name: Discount, dtype: float64"
      ]
     },
     "execution_count": 15,
     "metadata": {},
     "output_type": "execute_result"
    }
   ],
   "source": [
    "region_central.groupby(\"Category\")[\"Discount\"].mean()"
   ]
  },
  {
   "cell_type": "code",
   "execution_count": 16,
   "id": "d70d32a9",
   "metadata": {},
   "outputs": [],
   "source": [
    "rc_critical_category = region_central[region_central[\"Category\"]!=\"Technology\"]"
   ]
  },
  {
   "cell_type": "code",
   "execution_count": 17,
   "id": "5ba487ce",
   "metadata": {},
   "outputs": [
    {
     "data": {
      "text/plain": [
       "Sub-Category\n",
       "Appliances     23582\n",
       "Art             5763\n",
       "Binders        56927\n",
       "Bookcases      24153\n",
       "Chairs         85228\n",
       "Envelopes       4638\n",
       "Fasteners        776\n",
       "Furnishings    15256\n",
       "Labels          2454\n",
       "Paper          17491\n",
       "Storage        45934\n",
       "Supplies        9470\n",
       "Tables         39152\n",
       "Name: Sales, dtype: int64"
      ]
     },
     "execution_count": 17,
     "metadata": {},
     "output_type": "execute_result"
    }
   ],
   "source": [
    "rc_critical_category.groupby(\"Sub-Category\")[\"Sales\"].sum()"
   ]
  },
  {
   "cell_type": "code",
   "execution_count": 18,
   "id": "0d72879f",
   "metadata": {},
   "outputs": [
    {
     "data": {
      "text/plain": [
       "Sub-Category\n",
       "Appliances    -2642\n",
       "Art            1208\n",
       "Binders       -1053\n",
       "Bookcases     -1998\n",
       "Chairs         6594\n",
       "Envelopes      1770\n",
       "Fasteners       237\n",
       "Furnishings   -3902\n",
       "Labels         1076\n",
       "Paper          6981\n",
       "Storage        1977\n",
       "Supplies       -659\n",
       "Tables        -3561\n",
       "Name: Profit, dtype: int64"
      ]
     },
     "execution_count": 18,
     "metadata": {},
     "output_type": "execute_result"
    }
   ],
   "source": [
    "rc_critical_category.groupby(\"Sub-Category\")[\"Profit\"].sum()"
   ]
  },
  {
   "cell_type": "code",
   "execution_count": 19,
   "id": "d6e31d47",
   "metadata": {},
   "outputs": [
    {
     "data": {
      "text/plain": [
       "Sub-Category\n",
       "Appliances    -21.479675\n",
       "Art             6.863636\n",
       "Binders        -2.877049\n",
       "Bookcases     -39.960000\n",
       "Chairs         42.818182\n",
       "Envelopes      30.000000\n",
       "Fasteners       4.309091\n",
       "Furnishings   -19.034146\n",
       "Labels         14.157895\n",
       "Paper          21.747664\n",
       "Storage         9.414286\n",
       "Supplies      -18.305556\n",
       "Tables        -49.458333\n",
       "Name: Profit, dtype: float64"
      ]
     },
     "execution_count": 19,
     "metadata": {},
     "output_type": "execute_result"
    }
   ],
   "source": [
    "rc_critical_category.groupby(\"Sub-Category\")[\"Profit\"].mean()"
   ]
  },
  {
   "cell_type": "code",
   "execution_count": 20,
   "id": "2f9eb415",
   "metadata": {},
   "outputs": [
    {
     "data": {
      "text/plain": [
       "Sub-Category\n",
       "Appliances     0.448780\n",
       "Art            0.122727\n",
       "Binders        0.509290\n",
       "Bookcases      0.232800\n",
       "Chairs         0.192857\n",
       "Envelopes      0.128814\n",
       "Fasteners      0.134545\n",
       "Furnishings    0.403902\n",
       "Labels         0.113158\n",
       "Paper          0.128972\n",
       "Storage        0.123810\n",
       "Supplies       0.144444\n",
       "Tables         0.262500\n",
       "Name: Discount, dtype: float64"
      ]
     },
     "execution_count": 20,
     "metadata": {},
     "output_type": "execute_result"
    }
   ],
   "source": [
    "rc_critical_category.groupby(\"Sub-Category\")[\"Discount\"].mean()"
   ]
  },
  {
   "cell_type": "code",
   "execution_count": 21,
   "id": "355e8048",
   "metadata": {},
   "outputs": [
    {
     "name": "stdout",
     "output_type": "stream",
     "text": [
      "   Sub-Category     Profit\n",
      "0        Tables -49.458333\n",
      "1     Bookcases -39.960000\n",
      "2    Appliances -21.479675\n",
      "3   Furnishings -19.034146\n",
      "4      Supplies -18.305556\n",
      "5       Binders  -2.877049\n",
      "6     Fasteners   4.309091\n",
      "7           Art   6.863636\n",
      "8       Storage   9.414286\n",
      "9        Labels  14.157895\n",
      "10        Paper  21.747664\n",
      "11    Envelopes  30.000000\n",
      "12       Chairs  42.818182\n"
     ]
    }
   ],
   "source": [
    "rc_subcat_prof = pd.DataFrame(rc_critical_category.groupby(\"Sub-Category\")[\"Profit\"].mean()).sort_values(\"Profit\").reset_index()\n",
    "print(rc_subcat_prof)"
   ]
  },
  {
   "cell_type": "code",
   "execution_count": 22,
   "id": "5df12947",
   "metadata": {},
   "outputs": [
    {
     "name": "stdout",
     "output_type": "stream",
     "text": [
      "   Sub-Category  Discount\n",
      "0       Binders  0.509290\n",
      "1    Appliances  0.448780\n",
      "2   Furnishings  0.403902\n",
      "3        Tables  0.262500\n",
      "4     Bookcases  0.232800\n",
      "5        Chairs  0.192857\n",
      "6      Supplies  0.144444\n",
      "7     Fasteners  0.134545\n",
      "8         Paper  0.128972\n",
      "9     Envelopes  0.128814\n",
      "10      Storage  0.123810\n",
      "11          Art  0.122727\n",
      "12       Labels  0.113158\n"
     ]
    }
   ],
   "source": [
    "rc_subcat_dis = pd.DataFrame(rc_critical_category.groupby(\"Sub-Category\")[\"Discount\"].mean()).sort_values(\"Discount\", ascending=False).reset_index()\n",
    "print(rc_subcat_dis)"
   ]
  },
  {
   "cell_type": "code",
   "execution_count": 24,
   "id": "04213445",
   "metadata": {},
   "outputs": [
    {
     "data": {
      "text/html": [
       "<div>\n",
       "<style scoped>\n",
       "    .dataframe tbody tr th:only-of-type {\n",
       "        vertical-align: middle;\n",
       "    }\n",
       "\n",
       "    .dataframe tbody tr th {\n",
       "        vertical-align: top;\n",
       "    }\n",
       "\n",
       "    .dataframe thead th {\n",
       "        text-align: right;\n",
       "    }\n",
       "</style>\n",
       "<table border=\"1\" class=\"dataframe\">\n",
       "  <thead>\n",
       "    <tr style=\"text-align: right;\">\n",
       "      <th></th>\n",
       "      <th>Sub-Category</th>\n",
       "      <th>Profit Mean</th>\n",
       "      <th>Discount Mean</th>\n",
       "    </tr>\n",
       "  </thead>\n",
       "  <tbody>\n",
       "    <tr>\n",
       "      <th>0</th>\n",
       "      <td>Tables</td>\n",
       "      <td>-49.458333</td>\n",
       "      <td>0.262500</td>\n",
       "    </tr>\n",
       "    <tr>\n",
       "      <th>1</th>\n",
       "      <td>Bookcases</td>\n",
       "      <td>-39.960000</td>\n",
       "      <td>0.232800</td>\n",
       "    </tr>\n",
       "    <tr>\n",
       "      <th>2</th>\n",
       "      <td>Appliances</td>\n",
       "      <td>-21.479675</td>\n",
       "      <td>0.448780</td>\n",
       "    </tr>\n",
       "    <tr>\n",
       "      <th>3</th>\n",
       "      <td>Furnishings</td>\n",
       "      <td>-19.034146</td>\n",
       "      <td>0.403902</td>\n",
       "    </tr>\n",
       "    <tr>\n",
       "      <th>4</th>\n",
       "      <td>Supplies</td>\n",
       "      <td>-18.305556</td>\n",
       "      <td>0.144444</td>\n",
       "    </tr>\n",
       "    <tr>\n",
       "      <th>5</th>\n",
       "      <td>Binders</td>\n",
       "      <td>-2.877049</td>\n",
       "      <td>0.509290</td>\n",
       "    </tr>\n",
       "    <tr>\n",
       "      <th>6</th>\n",
       "      <td>Fasteners</td>\n",
       "      <td>4.309091</td>\n",
       "      <td>0.134545</td>\n",
       "    </tr>\n",
       "    <tr>\n",
       "      <th>7</th>\n",
       "      <td>Art</td>\n",
       "      <td>6.863636</td>\n",
       "      <td>0.122727</td>\n",
       "    </tr>\n",
       "    <tr>\n",
       "      <th>8</th>\n",
       "      <td>Storage</td>\n",
       "      <td>9.414286</td>\n",
       "      <td>0.123810</td>\n",
       "    </tr>\n",
       "    <tr>\n",
       "      <th>9</th>\n",
       "      <td>Labels</td>\n",
       "      <td>14.157895</td>\n",
       "      <td>0.113158</td>\n",
       "    </tr>\n",
       "    <tr>\n",
       "      <th>10</th>\n",
       "      <td>Paper</td>\n",
       "      <td>21.747664</td>\n",
       "      <td>0.128972</td>\n",
       "    </tr>\n",
       "    <tr>\n",
       "      <th>11</th>\n",
       "      <td>Envelopes</td>\n",
       "      <td>30.000000</td>\n",
       "      <td>0.128814</td>\n",
       "    </tr>\n",
       "    <tr>\n",
       "      <th>12</th>\n",
       "      <td>Chairs</td>\n",
       "      <td>42.818182</td>\n",
       "      <td>0.192857</td>\n",
       "    </tr>\n",
       "  </tbody>\n",
       "</table>\n",
       "</div>"
      ],
      "text/plain": [
       "   Sub-Category  Profit Mean  Discount Mean\n",
       "0        Tables   -49.458333       0.262500\n",
       "1     Bookcases   -39.960000       0.232800\n",
       "2    Appliances   -21.479675       0.448780\n",
       "3   Furnishings   -19.034146       0.403902\n",
       "4      Supplies   -18.305556       0.144444\n",
       "5       Binders    -2.877049       0.509290\n",
       "6     Fasteners     4.309091       0.134545\n",
       "7           Art     6.863636       0.122727\n",
       "8       Storage     9.414286       0.123810\n",
       "9        Labels    14.157895       0.113158\n",
       "10        Paper    21.747664       0.128972\n",
       "11    Envelopes    30.000000       0.128814\n",
       "12       Chairs    42.818182       0.192857"
      ]
     },
     "execution_count": 24,
     "metadata": {},
     "output_type": "execute_result"
    }
   ],
   "source": [
    "rc_subcat = pd.merge(rc_subcat_prof, rc_subcat_dis, on=\"Sub-Category\")\n",
    "rc_subcat = rc_subcat.rename({'Sub-Category': 'Sub-Category', 'Profit': 'Profit Mean', 'Discount': 'Discount Mean'}, axis=1)\n",
    "rc_subcat.sort_values(\"Profit Mean\")"
   ]
  },
  {
   "cell_type": "code",
   "execution_count": 25,
   "id": "c1f9a70b",
   "metadata": {},
   "outputs": [
    {
     "data": {
      "image/png": "[encoded data removed]",
      "text/plain": [
       "<Figure size 720x432 with 1 Axes>"
      ]
     },
     "metadata": {
      "needs_background": "light"
     },
     "output_type": "display_data"
    }
   ],
   "source": [
    "fig, ax = plt.subplots(figsize=(10, 6))\n",
    "\n",
    "rc_subcat.plot(\n",
    "    x    = 'Discount Mean',\n",
    "    y    = 'Profit Mean',\n",
    "    c    = 'firebrick',\n",
    "    kind = \"scatter\",\n",
    "    ax   = ax\n",
    "\n",
    ")\n",
    "ax.set_title('Profit Mean & Discount Mean');"
   ]
  },
  {
   "cell_type": "code",
   "execution_count": 26,
   "id": "de0f497f",
   "metadata": {},
   "outputs": [
    {
     "data": {
      "text/plain": [
       "-0.4370785901451076"
      ]
     },
     "execution_count": 26,
     "metadata": {},
     "output_type": "execute_result"
    }
   ],
   "source": [
    "rc_subcat[\"Profit Mean\"].corr(rc_subcat[\"Discount Mean\"])"
   ]
  },
  {
   "cell_type": "code",
   "execution_count": 27,
   "id": "7f649000",
   "metadata": {},
   "outputs": [
    {
     "name": "stdout",
     "output_type": "stream",
     "text": [
      "  Sub-Category  Profit Mean  Discount Mean\n",
      "0       Tables   -49.458333       0.262500\n",
      "1    Bookcases   -39.960000       0.232800\n",
      "2   Appliances   -21.479675       0.448780\n",
      "3  Furnishings   -19.034146       0.403902\n",
      "4     Supplies   -18.305556       0.144444\n",
      "5      Binders    -2.877049       0.509290\n"
     ]
    }
   ],
   "source": [
    "results = rc_subcat[rc_subcat[\"Profit Mean\"]<0]\n",
    "print(results)"
   ]
  }
 ],
 "metadata": {
  "kernelspec": {
   "display_name": "Python 3",
   "language": "python",
   "name": "python3"
  },
  "language_info": {
   "codemirror_mode": {
    "name": "ipython",
    "version": 3
   },
   "file_extension": ".py",
   "mimetype": "text/x-python",
   "name": "python",
   "nbconvert_exporter": "python",
   "pygments_lexer": "ipython3",
   "version": "3.8.8"
  }
 },
 "nbformat": 4,
 "nbformat_minor": 5
}
